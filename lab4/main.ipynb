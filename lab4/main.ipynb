{
 "cells": [
  {
   "cell_type": "code",
   "execution_count": 106,
   "id": "36faf99b653921e5",
   "metadata": {
    "ExecuteTime": {
     "end_time": "2024-10-10T09:43:14.368392Z",
     "start_time": "2024-10-10T09:43:14.354868Z"
    }
   },
   "outputs": [],
   "source": [
    "import numpy as np\n",
    "import pandas as pd\n",
    "\n",
    "import warnings\n",
    "warnings.filterwarnings(\"ignore\", category=FutureWarning)"
   ]
  },
  {
   "cell_type": "code",
   "execution_count": 107,
   "id": "initial_id",
   "metadata": {
    "ExecuteTime": {
     "end_time": "2024-10-10T09:43:14.464100Z",
     "start_time": "2024-10-10T09:43:14.449050Z"
    },
    "collapsed": true
   },
   "outputs": [],
   "source": [
    "def func(x: list[float, float, float, float], step=-1):\n",
    "    lam = x[3]\n",
    "    \n",
    "    if step == 3:\n",
    "        return sum(el ** 2 for el in x[:-1])\n",
    "    elif step in [0, 1, 2]:\n",
    "        return x[step] * (1 + 2 * lam) + 1\n",
    "    return 1/2 * sum(el ** 2 for el in x[:-1]) + sum(el for el in x[:-1]) + lam * (sum(el ** 2 for el in x[:-1]) - 3)\n",
    "\n",
    "\n",
    "def len_vec(px: list[float, float, float, float]):\n",
    "    # print(px)\n",
    "    return np.sqrt(sum(el ** 2 for el in px))"
   ]
  },
  {
   "cell_type": "code",
   "execution_count": 108,
   "id": "e5ed142f3eb5fcc7",
   "metadata": {
    "ExecuteTime": {
     "end_time": "2024-10-10T09:43:14.479624Z",
     "start_time": "2024-10-10T09:43:14.469099Z"
    }
   },
   "outputs": [],
   "source": [
    "def main_cycle(x: list[float, float, float, float], h: float) -> list[float, float, float, float]:\n",
    "    return [pos - h * func(x, i) for i, pos in enumerate(x)]"
   ]
  },
  {
   "cell_type": "code",
   "execution_count": 109,
   "id": "9262ac3dd61804ef",
   "metadata": {
    "ExecuteTime": {
     "end_time": "2024-10-10T09:43:14.527728Z",
     "start_time": "2024-10-10T09:43:14.512698Z"
    }
   },
   "outputs": [],
   "source": [
    "eps = 0.001\n",
    "begin_step = 0.1\n",
    "h = begin_step\n",
    "columns = [\"iter\", \"h\", \"x\", \"y\", \"z\", \"l\", \"f(x, y, z, l)\", \"diff\", \"f`_x\", \"f`_y\", \"f`_z\", \"f'_l\", \"norm\"]\n",
    "\n",
    "res_columns = [\"start_pos\"] + columns\n",
    "\n",
    "results_df = pd.DataFrame(columns=res_columns)\n",
    "# df.loc[len(df.index)] = data"
   ]
  },
  {
   "cell_type": "code",
   "execution_count": 113,
   "id": "e5284f9c20904cba",
   "metadata": {
    "ExecuteTime": {
     "end_time": "2024-10-10T09:43:20.766549Z",
     "start_time": "2024-10-10T09:43:14.545765Z"
    }
   },
   "outputs": [
    {
     "name": "stdout",
     "output_type": "stream",
     "text": [
      "[-4, -4, -4, 75]\n",
      "[65.39999999999999, 65.39999999999999, 65.39999999999999, 63.47999999999999] 129.85064651360037\n",
      "[298.39343999999994, 298.39343999999994, 298.39343999999994, 372.2987999999999] 636.9633675389351\n",
      "[4146.296686621439, 4146.296686621439, 4146.296686621439, 5037.919904011007] 8772.454935745984\n",
      "[505152.8186061725, 505152.8186061725, 505152.8186061725, 622738.717256921] 1073937.4378463938\n",
      "[6404822893.309, 6404822893.309, 6404822893.309, 7794095149.247271] 13557772238.811398\n",
      "[9.985559224420599e+17, 9.985559224420599e+17, 9.985559224420599e+17, 1.230848572351002e+18] 2.1228118142668321e+18\n",
      "[2.458142294435819e+34, 2.458142294435819e+34, 2.458142294435819e+34, 2.9913418291088373e+34] 5.203413932953901e+34\n",
      "[1.4706287734494875e+67, 1.4706287734494875e+67, 1.4706287734494875e+67, 1.812739061908258e+67] 3.126382873939253e+67\n",
      "[5.3317324463962324e+132, 5.3317324463962324e+132, 5.3317324463962324e+132, 6.488246967892632e+132] 1.1286250987650018e+133\n"
     ]
    },
    {
     "ename": "OverflowError",
     "evalue": "(34, 'Result too large')",
     "output_type": "error",
     "traceback": [
      "\u001b[1;31m---------------------------------------------------------------------------\u001b[0m",
      "\u001b[1;31mOverflowError\u001b[0m                             Traceback (most recent call last)",
      "Cell \u001b[1;32mIn[113], line 34\u001b[0m\n\u001b[0;32m     32\u001b[0m prev_res \u001b[38;5;241m=\u001b[39m res\n\u001b[0;32m     33\u001b[0m px \u001b[38;5;241m=\u001b[39m [func(vec, i) \u001b[38;5;28;01mfor\u001b[39;00m i \u001b[38;5;129;01min\u001b[39;00m \u001b[38;5;28mrange\u001b[39m(\u001b[38;5;241m4\u001b[39m)]\n\u001b[1;32m---> 34\u001b[0m norm \u001b[38;5;241m=\u001b[39m \u001b[43mlen_vec\u001b[49m\u001b[43m(\u001b[49m\u001b[43mpx\u001b[49m\u001b[43m)\u001b[49m\n\u001b[0;32m     35\u001b[0m \u001b[38;5;28mprint\u001b[39m(px, norm)\n\u001b[0;32m     37\u001b[0m index \u001b[38;5;241m+\u001b[39m\u001b[38;5;241m=\u001b[39m \u001b[38;5;241m1\u001b[39m\n",
      "Cell \u001b[1;32mIn[107], line 13\u001b[0m, in \u001b[0;36mlen_vec\u001b[1;34m(px)\u001b[0m\n\u001b[0;32m     11\u001b[0m \u001b[38;5;28;01mdef\u001b[39;00m \u001b[38;5;21mlen_vec\u001b[39m(px: \u001b[38;5;28mlist\u001b[39m[\u001b[38;5;28mfloat\u001b[39m, \u001b[38;5;28mfloat\u001b[39m, \u001b[38;5;28mfloat\u001b[39m, \u001b[38;5;28mfloat\u001b[39m]):\n\u001b[0;32m     12\u001b[0m     \u001b[38;5;66;03m# print(px)\u001b[39;00m\n\u001b[1;32m---> 13\u001b[0m     \u001b[38;5;28;01mreturn\u001b[39;00m np\u001b[38;5;241m.\u001b[39msqrt(\u001b[38;5;28;43msum\u001b[39;49m\u001b[43m(\u001b[49m\u001b[43mel\u001b[49m\u001b[43m \u001b[49m\u001b[38;5;241;43m*\u001b[39;49m\u001b[38;5;241;43m*\u001b[39;49m\u001b[43m \u001b[49m\u001b[38;5;241;43m2\u001b[39;49m\u001b[43m \u001b[49m\u001b[38;5;28;43;01mfor\u001b[39;49;00m\u001b[43m \u001b[49m\u001b[43mel\u001b[49m\u001b[43m \u001b[49m\u001b[38;5;129;43;01min\u001b[39;49;00m\u001b[43m \u001b[49m\u001b[43mpx\u001b[49m\u001b[43m)\u001b[49m)\n",
      "Cell \u001b[1;32mIn[107], line 13\u001b[0m, in \u001b[0;36m<genexpr>\u001b[1;34m(.0)\u001b[0m\n\u001b[0;32m     11\u001b[0m \u001b[38;5;28;01mdef\u001b[39;00m \u001b[38;5;21mlen_vec\u001b[39m(px: \u001b[38;5;28mlist\u001b[39m[\u001b[38;5;28mfloat\u001b[39m, \u001b[38;5;28mfloat\u001b[39m, \u001b[38;5;28mfloat\u001b[39m, \u001b[38;5;28mfloat\u001b[39m]):\n\u001b[0;32m     12\u001b[0m     \u001b[38;5;66;03m# print(px)\u001b[39;00m\n\u001b[1;32m---> 13\u001b[0m     \u001b[38;5;28;01mreturn\u001b[39;00m np\u001b[38;5;241m.\u001b[39msqrt(\u001b[38;5;28msum\u001b[39m(\u001b[43mel\u001b[49m\u001b[43m \u001b[49m\u001b[38;5;241;43m*\u001b[39;49m\u001b[38;5;241;43m*\u001b[39;49m\u001b[43m \u001b[49m\u001b[38;5;241;43m2\u001b[39;49m \u001b[38;5;28;01mfor\u001b[39;00m el \u001b[38;5;129;01min\u001b[39;00m px))\n",
      "\u001b[1;31mOverflowError\u001b[0m: (34, 'Result too large')"
     ]
    }
   ],
   "source": [
    "s_lambda = 0\n",
    "\n",
    "for posx in range(-5, 5 + 1, 2):\n",
    "    for posy in range(-5, 5 + 1, 2):\n",
    "        for posz in range(-5, 5 + 1, 2):\n",
    "            index = 0\n",
    "        \n",
    "            start_pos = [posx, posy, posz, s_lambda]\n",
    "        \n",
    "            vec = start_pos\n",
    "            px = [func(vec, i) for i in range(4)]\n",
    "            print(px)\n",
    "            norm = len_vec(px)\n",
    "            prev_res = func(start_pos)\n",
    "            diff = -1\n",
    "            \n",
    "            index += 1\n",
    "            \n",
    "            data = [index, h,\n",
    "                    vec[0], vec[1], vec[2], vec[3],\n",
    "                    prev_res, None, px[0], px[1], px[2], px[3],\n",
    "                    norm]\n",
    "            # print(len(data), len(columns))\n",
    "            df = pd.DataFrame([data], columns=columns)\n",
    "            \n",
    "            while norm > eps:\n",
    "                if diff > 0:\n",
    "                    h /= 2\n",
    "                vec = main_cycle(vec, h)\n",
    "                res = func(vec)\n",
    "                diff = res - prev_res\n",
    "                prev_res = res\n",
    "                px = [func(vec, i) for i in range(4)]\n",
    "                norm = len_vec(px)\n",
    "                print(px, norm)\n",
    "\n",
    "                index += 1\n",
    "                data = [index, h,\n",
    "                        vec[0], vec[1], vec[2], vec[3],\n",
    "                        res, diff, px[0], px[1], px[2], px[3],\n",
    "                        norm]\n",
    "                # print(data)\n",
    "                df.loc[len(df.index)] = data\n",
    "            \n",
    "            results_df.loc[len(results_df.index)] = [start_pos] + data\n",
    "            df.to_csv(f'res/start_pos_{start_pos} precision_{eps} begin_step_{begin_step}.csv')\n",
    "\n",
    "results_df    "
   ]
  },
  {
   "cell_type": "code",
   "execution_count": null,
   "id": "7b28d9131307bb16",
   "metadata": {
    "ExecuteTime": {
     "end_time": "2024-10-10T09:43:20.907269Z",
     "start_time": "2024-10-10T09:43:20.892747Z"
    }
   },
   "outputs": [],
   "source": [
    "# Настоящий результат: -1.16666666.....7\n",
    "#(*) = (-1.333..., -1.666..., 0.666...)"
   ]
  },
  {
   "cell_type": "code",
   "execution_count": null,
   "id": "9732dee48efe8ee6",
   "metadata": {
    "ExecuteTime": {
     "end_time": "2024-10-10T09:43:20.971422Z",
     "start_time": "2024-10-10T09:43:20.956383Z"
    }
   },
   "outputs": [],
   "source": []
  }
 ],
 "metadata": {
  "kernelspec": {
   "display_name": "Analyze",
   "language": "python",
   "name": "python3"
  },
  "language_info": {
   "codemirror_mode": {
    "name": "ipython",
    "version": 3
   },
   "file_extension": ".py",
   "mimetype": "text/x-python",
   "name": "python",
   "nbconvert_exporter": "python",
   "pygments_lexer": "ipython3",
   "version": "3.10.5"
  }
 },
 "nbformat": 4,
 "nbformat_minor": 5
}
