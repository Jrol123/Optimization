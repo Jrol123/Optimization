{
 "cells": [
  {
   "cell_type": "code",
   "id": "initial_id",
   "metadata": {
    "collapsed": true,
    "ExecuteTime": {
     "end_time": "2024-11-12T11:06:17.620495Z",
     "start_time": "2024-11-12T11:06:17.606971Z"
    }
   },
   "source": [
    "from numpy import array\n",
    "from numpy.linalg import inv, norm\n",
    "from pandas import DataFrame"
   ],
   "outputs": [],
   "execution_count": 61
  },
  {
   "metadata": {
    "ExecuteTime": {
     "end_time": "2024-11-12T11:06:17.652566Z",
     "start_time": "2024-11-12T11:06:17.640529Z"
    }
   },
   "cell_type": "code",
   "source": [
    "def yakobi(x: list, x0):\n",
    "    lam = x[4]\n",
    "    return array([[(2 * lam + 1), 0, 2, 0, 2 * x[0] - 2 * x0[0]],\n",
    "                  [0, (2 * lam + 1), 0, 0, 2 * x[1] - 2 * x0[1]],\n",
    "                  [2, 0, (2 * lam + 1), 0, 2 * x[2] - 2 * x0[2]],\n",
    "                  [0, 0, 0, (2 * lam + 1), 2 * x[3] - 2 * x0[3]],\n",
    "                  [2 * x[0] - 2 * x0[0], 2 * x[1] - 2 * x0[1], 2 * x[2] - 2 * x0[2], 2 * x[3] - 2 * x0[3], 0]])"
   ],
   "id": "d5a80e4b7f59afc7",
   "outputs": [],
   "execution_count": 62
  },
  {
   "metadata": {
    "ExecuteTime": {
     "end_time": "2024-11-12T11:06:17.684118Z",
     "start_time": "2024-11-12T11:06:17.669079Z"
    }
   },
   "cell_type": "code",
   "source": [
    "def f(x: list):\n",
    "    return 1 / 2 * sum(x[i] ** 2 for i in range(0, 3 + 1)) + 2 * x[0] * x[2] + sum(x[i] for i in range(0, 3 + 1))"
   ],
   "id": "c6a89d1ebd60d234",
   "outputs": [],
   "execution_count": 63
  },
  {
   "metadata": {
    "ExecuteTime": {
     "end_time": "2024-11-12T11:06:17.716177Z",
     "start_time": "2024-11-12T11:06:17.701656Z"
    }
   },
   "cell_type": "code",
   "source": [
    "def g(x, x0, r):\n",
    "    return sum((x[i] - x0[i]) ** 2 for i in range(0, 3 + 1)) - r ** 2"
   ],
   "id": "2c623f36d171d507",
   "outputs": [],
   "execution_count": 64
  },
  {
   "metadata": {
    "ExecuteTime": {
     "end_time": "2024-11-12T11:06:17.747721Z",
     "start_time": "2024-11-12T11:06:17.733205Z"
    }
   },
   "cell_type": "code",
   "source": [
    "def F(x: list, x0, r):\n",
    "    lam = x[4]\n",
    "    return f(x) + lam * g(x, x0, r)"
   ],
   "id": "3fee73d4a94974b8",
   "outputs": [],
   "execution_count": 65
  },
  {
   "metadata": {
    "ExecuteTime": {
     "end_time": "2024-11-12T11:06:17.779272Z",
     "start_time": "2024-11-12T11:06:17.765755Z"
    }
   },
   "cell_type": "code",
   "source": [
    "def nablaF(x, x0, r):\n",
    "    lamb = x[4]\n",
    "    return array([(2 * lamb + 1) * x[0] + 2 * x[2] - 2 * lamb * x0[0] + 1,\n",
    "                  (2 * lamb + 1) * x[1] - 2 * lamb * x0[1] + 1,\n",
    "                  (2 * lamb + 1) * x[2] + 2 * x[0] - 2 * lamb * x0[2] + 1,\n",
    "                  (2 * lamb + 1) * x[3] - 2 * lamb * x0[3] + 1,\n",
    "                  sum(x[i] ** 2 - 2 * x0[i] * x[i] for i in range(0, 3 + 1)) - r ** 2 + sum(x0[i] ** 2 for i in range(0, 3 + 1))])"
   ],
   "id": "db9d4b0187bff3a4",
   "outputs": [],
   "execution_count": 66
  },
  {
   "metadata": {
    "ExecuteTime": {
     "end_time": "2024-11-12T11:06:17.810841Z",
     "start_time": "2024-11-12T11:06:17.796307Z"
    }
   },
   "cell_type": "code",
   "source": [
    "def lenNablaF(x, x0, r):\n",
    "    nabl = nablaF(x, x0, r)\n",
    "    return norm(nabl)"
   ],
   "id": "6764c418b3dcab20",
   "outputs": [],
   "execution_count": 67
  },
  {
   "metadata": {
    "ExecuteTime": {
     "end_time": "2024-11-12T11:06:17.841400Z",
     "start_time": "2024-11-12T11:06:17.827367Z"
    }
   },
   "cell_type": "code",
   "source": [
    "def x_new(xk, yak, Fxk):\n",
    "    return xk - inv(yak) @ Fxk"
   ],
   "id": "f2e148ba1d9dd8d4",
   "outputs": [],
   "execution_count": 68
  },
  {
   "metadata": {},
   "cell_type": "markdown",
   "source": "Решения",
   "id": "fa89d5a8bd19ad9a"
  },
  {
   "metadata": {
    "ExecuteTime": {
     "end_time": "2024-11-12T11:06:19.682938Z",
     "start_time": "2024-11-12T11:06:17.857925Z"
    }
   },
   "cell_type": "code",
   "source": [
    "r_c = 5\n",
    "\n",
    "lambda_b = 1\n",
    "\n",
    "point_b = [0, 0, 0, 0]\n",
    "\n",
    "eps_r = 1\n",
    "\n",
    "eps = 0.001\n",
    "\n",
    "df = DataFrame(columns=[\"point\", \"f(x)\", \"count_iter\"])\n",
    "\n",
    "for a_c in range(point_b[0] - r_c - eps_r, point_b[0] + r_c + eps_r + 1, 2):\n",
    "    for b_c in range(point_b[1] - r_c - eps_r, point_b[1] + r_c + eps_r + 1, 2):\n",
    "        for c_c in range(point_b[2] - r_c - eps_r, point_b[2] + eps_r + 1, 2):\n",
    "            for d_c in range(point_b[3] - r_c - eps_r, point_b[3] + r_c + eps_r + 1, 2):\n",
    "                count_iter = 0\n",
    "                point = [a_c, b_c, c_c, d_c, lambda_b]\n",
    "                try:\n",
    "                    while lenNablaF(point, point_b, r_c) > eps:\n",
    "                        yak = yakobi(point, point_b)\n",
    "                        Fcur = nablaF(point, point_b, r_c)\n",
    "                        point = x_new(point, yak, Fcur)\n",
    "                        count_iter += 1\n",
    "                    df.loc[df.shape[0]] = [point, f(point), count_iter]\n",
    "                    # print(point, f(point))\n",
    "                except:\n",
    "                    pass\n",
    "df.sort_values(['f(x)'])"
   ],
   "id": "8ae85a7d42ac14e8",
   "outputs": [
    {
     "data": {
      "text/plain": [
       "                                                  point       f(x)  count_iter\n",
       "1222  [3.241129226604991, -0.5000016685032199, -3.74... -13.250489           4\n",
       "1330  [3.2411292266049907, -0.5000023720356377, -3.7... -13.250489           4\n",
       "247   [-3.7411249284542603, -0.49997454510007566, 3.... -13.250449           5\n",
       "274   [-3.7411249284542603, -0.49998112891892654, 3.... -13.250449           5\n",
       "625   [3.241130342323241, -0.49997454510007566, -3.7... -13.250449           5\n",
       "...                                                 ...        ...         ...\n",
       "891   [3.5083621377522443, 0.4376079490637372, 3.508...  45.009338          11\n",
       "688   [3.5083647230408253, 0.43763213043308086, 3.50...  45.009384          10\n",
       "472   [3.5083647253970756, 0.4376317311705609, 3.508...  45.009384          10\n",
       "499   [3.5083647253970756, 0.4376321304330809, 3.508...  45.009384          10\n",
       "661   [3.5083647230408257, 0.43763173117056103, 3.50...  45.009384          10\n",
       "\n",
       "[1371 rows x 3 columns]"
      ],
      "text/html": [
       "<div>\n",
       "<style scoped>\n",
       "    .dataframe tbody tr th:only-of-type {\n",
       "        vertical-align: middle;\n",
       "    }\n",
       "\n",
       "    .dataframe tbody tr th {\n",
       "        vertical-align: top;\n",
       "    }\n",
       "\n",
       "    .dataframe thead th {\n",
       "        text-align: right;\n",
       "    }\n",
       "</style>\n",
       "<table border=\"1\" class=\"dataframe\">\n",
       "  <thead>\n",
       "    <tr style=\"text-align: right;\">\n",
       "      <th></th>\n",
       "      <th>point</th>\n",
       "      <th>f(x)</th>\n",
       "      <th>count_iter</th>\n",
       "    </tr>\n",
       "  </thead>\n",
       "  <tbody>\n",
       "    <tr>\n",
       "      <th>1222</th>\n",
       "      <td>[3.241129226604991, -0.5000016685032199, -3.74...</td>\n",
       "      <td>-13.250489</td>\n",
       "      <td>4</td>\n",
       "    </tr>\n",
       "    <tr>\n",
       "      <th>1330</th>\n",
       "      <td>[3.2411292266049907, -0.5000023720356377, -3.7...</td>\n",
       "      <td>-13.250489</td>\n",
       "      <td>4</td>\n",
       "    </tr>\n",
       "    <tr>\n",
       "      <th>247</th>\n",
       "      <td>[-3.7411249284542603, -0.49997454510007566, 3....</td>\n",
       "      <td>-13.250449</td>\n",
       "      <td>5</td>\n",
       "    </tr>\n",
       "    <tr>\n",
       "      <th>274</th>\n",
       "      <td>[-3.7411249284542603, -0.49998112891892654, 3....</td>\n",
       "      <td>-13.250449</td>\n",
       "      <td>5</td>\n",
       "    </tr>\n",
       "    <tr>\n",
       "      <th>625</th>\n",
       "      <td>[3.241130342323241, -0.49997454510007566, -3.7...</td>\n",
       "      <td>-13.250449</td>\n",
       "      <td>5</td>\n",
       "    </tr>\n",
       "    <tr>\n",
       "      <th>...</th>\n",
       "      <td>...</td>\n",
       "      <td>...</td>\n",
       "      <td>...</td>\n",
       "    </tr>\n",
       "    <tr>\n",
       "      <th>891</th>\n",
       "      <td>[3.5083621377522443, 0.4376079490637372, 3.508...</td>\n",
       "      <td>45.009338</td>\n",
       "      <td>11</td>\n",
       "    </tr>\n",
       "    <tr>\n",
       "      <th>688</th>\n",
       "      <td>[3.5083647230408253, 0.43763213043308086, 3.50...</td>\n",
       "      <td>45.009384</td>\n",
       "      <td>10</td>\n",
       "    </tr>\n",
       "    <tr>\n",
       "      <th>472</th>\n",
       "      <td>[3.5083647253970756, 0.4376317311705609, 3.508...</td>\n",
       "      <td>45.009384</td>\n",
       "      <td>10</td>\n",
       "    </tr>\n",
       "    <tr>\n",
       "      <th>499</th>\n",
       "      <td>[3.5083647253970756, 0.4376321304330809, 3.508...</td>\n",
       "      <td>45.009384</td>\n",
       "      <td>10</td>\n",
       "    </tr>\n",
       "    <tr>\n",
       "      <th>661</th>\n",
       "      <td>[3.5083647230408257, 0.43763173117056103, 3.50...</td>\n",
       "      <td>45.009384</td>\n",
       "      <td>10</td>\n",
       "    </tr>\n",
       "  </tbody>\n",
       "</table>\n",
       "<p>1371 rows × 3 columns</p>\n",
       "</div>"
      ]
     },
     "execution_count": 69,
     "metadata": {},
     "output_type": "execute_result"
    }
   ],
   "execution_count": 69
  },
  {
   "metadata": {
    "ExecuteTime": {
     "end_time": "2024-11-12T11:06:19.746034Z",
     "start_time": "2024-11-12T11:06:19.731514Z"
    }
   },
   "cell_type": "code",
   "source": "df.shape[0]",
   "id": "d701d652c63cd4f8",
   "outputs": [
    {
     "data": {
      "text/plain": [
       "1371"
      ]
     },
     "execution_count": 70,
     "metadata": {},
     "output_type": "execute_result"
    }
   ],
   "execution_count": 70
  },
  {
   "metadata": {
    "ExecuteTime": {
     "end_time": "2024-11-12T11:06:19.856704Z",
     "start_time": "2024-11-12T11:06:19.844190Z"
    }
   },
   "cell_type": "code",
   "source": "df['f(x)'].median()",
   "id": "fdc89b5d1ee626c6",
   "outputs": [
    {
     "data": {
      "text/plain": [
       "-13.250000078769121"
      ]
     },
     "execution_count": 71,
     "metadata": {},
     "output_type": "execute_result"
    }
   ],
   "execution_count": 71
  },
  {
   "metadata": {
    "ExecuteTime": {
     "end_time": "2024-11-12T11:06:19.951350Z",
     "start_time": "2024-11-12T11:06:19.941836Z"
    }
   },
   "cell_type": "code",
   "source": [
    "point = [point_b[0], point_b[1], point_b[2], point_b[3] - r_c, lambda_b]\n",
    "while lenNablaF(point, point_b, r_c) > eps:\n",
    "    yak = yakobi(point, point_b)\n",
    "    Fcur = nablaF(point, point_b, r_c)\n",
    "    point = x_new(point, yak, Fcur)\n",
    "print(point, f(point))"
   ],
   "id": "1857996ac5d02a84",
   "outputs": [
    {
     "name": "stdout",
     "output_type": "stream",
     "text": [
      "[-0.4376304  -3.50832952 -0.4376304  -3.50836817 -0.35748389] 4.991114240519133\n"
     ]
    }
   ],
   "execution_count": 72
  },
  {
   "metadata": {
    "ExecuteTime": {
     "end_time": "2024-11-12T11:06:19.982906Z",
     "start_time": "2024-11-12T11:06:19.975390Z"
    }
   },
   "cell_type": "code",
   "source": "",
   "id": "5449d445499e6429",
   "outputs": [],
   "execution_count": null
  }
 ],
 "metadata": {
  "kernelspec": {
   "display_name": "Python 3",
   "language": "python",
   "name": "python3"
  },
  "language_info": {
   "codemirror_mode": {
    "name": "ipython",
    "version": 2
   },
   "file_extension": ".py",
   "mimetype": "text/x-python",
   "name": "python",
   "nbconvert_exporter": "python",
   "pygments_lexer": "ipython2",
   "version": "2.7.6"
  }
 },
 "nbformat": 4,
 "nbformat_minor": 5
}
