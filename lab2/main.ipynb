{
 "cells": [
  {
   "metadata": {
    "ExecuteTime": {
     "end_time": "2024-10-10T02:12:14.208036Z",
     "start_time": "2024-10-10T02:12:14.191038Z"
    }
   },
   "cell_type": "code",
   "source": [
    "import math\n",
    "import pandas as pd"
   ],
   "id": "36faf99b653921e5",
   "outputs": [],
   "execution_count": 374
  },
  {
   "cell_type": "code",
   "id": "initial_id",
   "metadata": {
    "collapsed": true,
    "ExecuteTime": {
     "end_time": "2024-10-10T02:12:14.224037Z",
     "start_time": "2024-10-10T02:12:14.213042Z"
    }
   },
   "source": [
    "def func(x: list[float, float, float], step=-1):\n",
    "    if step == 0:\n",
    "        return x[0] + 1 / 2 * x[2] + 1\n",
    "    elif step == 1:\n",
    "        return x[1] + x[2] + 1\n",
    "    elif step == 2:\n",
    "        return 2 * x[2] + x[1] + 1 / 2 * x[0] + 1\n",
    "    return x[2] ** 2 + x[1] * x[2] + 1 / 2 * (x[0] * x[2] + x[1] ** 2 + x[0] ** 2) + x[2] + x[1] + x[0]\n",
    "\n",
    "\n",
    "def len_vec(px: list[float, float, float]):\n",
    "    return math.sqrt(px[0] ** 2 + px[1] ** 2 + px[2] ** 2)"
   ],
   "outputs": [],
   "execution_count": 375
  },
  {
   "metadata": {
    "ExecuteTime": {
     "end_time": "2024-10-10T02:12:14.271550Z",
     "start_time": "2024-10-10T02:12:14.257556Z"
    }
   },
   "cell_type": "code",
   "source": [
    "def main_cycle(x: list[float, float, float], h: float) -> list[float, float, float]:\n",
    "    return [pos - h * func(x, i) for i, pos in enumerate(x)]"
   ],
   "id": "e5ed142f3eb5fcc7",
   "outputs": [],
   "execution_count": 376
  },
  {
   "metadata": {
    "ExecuteTime": {
     "end_time": "2024-10-10T02:12:14.319551Z",
     "start_time": "2024-10-10T02:12:14.305551Z"
    }
   },
   "cell_type": "code",
   "source": [
    "eps = 0.001\n",
    "begin_step = 0.1\n",
    "h = begin_step\n",
    "\n",
    "index = 0\n",
    "\n",
    "start_pos = [1, 1, 1]\n",
    "\n",
    "vec = start_pos\n",
    "px = [func(vec, i) for i in range(3)]\n",
    "norm = len_vec(px)\n",
    "prev_res = func(start_pos)\n",
    "diff = -1"
   ],
   "id": "9262ac3dd61804ef",
   "outputs": [],
   "execution_count": 377
  },
  {
   "metadata": {
    "ExecuteTime": {
     "end_time": "2024-10-10T02:12:14.382070Z",
     "start_time": "2024-10-10T02:12:14.353072Z"
    }
   },
   "cell_type": "code",
   "source": [
    "columns = [\"h\", \"x\", \"y\", \"z\", \"f(x, y, z)\", \"diff\", \"f`_x\", \"f`_y\", \"f`_z\", \"norm\"]\n",
    "data = [h,\n",
    "        vec[0], vec[1], vec[2],\n",
    "        prev_res, None, px[0], px[1], px[2],\n",
    "        norm]\n",
    "df = pd.DataFrame([data], columns=columns)\n",
    "df"
   ],
   "id": "af1142e180856cc7",
   "outputs": [
    {
     "data": {
      "text/plain": [
       "     h  x  y  z  f(x, y, z)  diff  f`_x  f`_y  f`_z      norm\n",
       "0  0.1  1  1  1         6.5  None   2.5     3   4.5  5.958188"
      ],
      "text/html": [
       "<div>\n",
       "<style scoped>\n",
       "    .dataframe tbody tr th:only-of-type {\n",
       "        vertical-align: middle;\n",
       "    }\n",
       "\n",
       "    .dataframe tbody tr th {\n",
       "        vertical-align: top;\n",
       "    }\n",
       "\n",
       "    .dataframe thead th {\n",
       "        text-align: right;\n",
       "    }\n",
       "</style>\n",
       "<table border=\"1\" class=\"dataframe\">\n",
       "  <thead>\n",
       "    <tr style=\"text-align: right;\">\n",
       "      <th></th>\n",
       "      <th>h</th>\n",
       "      <th>x</th>\n",
       "      <th>y</th>\n",
       "      <th>z</th>\n",
       "      <th>f(x, y, z)</th>\n",
       "      <th>diff</th>\n",
       "      <th>f`_x</th>\n",
       "      <th>f`_y</th>\n",
       "      <th>f`_z</th>\n",
       "      <th>norm</th>\n",
       "    </tr>\n",
       "  </thead>\n",
       "  <tbody>\n",
       "    <tr>\n",
       "      <th>0</th>\n",
       "      <td>0.1</td>\n",
       "      <td>1</td>\n",
       "      <td>1</td>\n",
       "      <td>1</td>\n",
       "      <td>6.5</td>\n",
       "      <td>None</td>\n",
       "      <td>2.5</td>\n",
       "      <td>3</td>\n",
       "      <td>4.5</td>\n",
       "      <td>5.958188</td>\n",
       "    </tr>\n",
       "  </tbody>\n",
       "</table>\n",
       "</div>"
      ]
     },
     "execution_count": 378,
     "metadata": {},
     "output_type": "execute_result"
    }
   ],
   "execution_count": 378
  },
  {
   "metadata": {
    "ExecuteTime": {
     "end_time": "2024-10-10T02:12:14.902656Z",
     "start_time": "2024-10-10T02:12:14.495586Z"
    }
   },
   "cell_type": "code",
   "source": [
    "while norm > eps:\n",
    "    if diff > 0:\n",
    "        h /= 2\n",
    "    vec = main_cycle(vec, h)\n",
    "    res = func(vec)\n",
    "    diff = res - prev_res\n",
    "    prev_res = res\n",
    "    px = [func(vec, i) for i in range(3)]\n",
    "    norm = len_vec(px)\n",
    "    data = [h,\n",
    "            vec[0], vec[1], vec[2],\n",
    "            res, diff, px[0], px[1], px[2],\n",
    "            norm]\n",
    "    df.loc[len(df.index)] = data\n",
    "    \n",
    "df.to_csv(f'precision_{eps} step_{begin_step}.csv')\n",
    "df"
   ],
   "id": "f7e60b7a296759de",
   "outputs": [
    {
     "name": "stderr",
     "output_type": "stream",
     "text": [
      "C:\\Users\\artem\\AppData\\Local\\Temp\\ipykernel_10360\\1912946317.py:14: FutureWarning: The behavior of DataFrame concatenation with empty or all-NA entries is deprecated. In a future version, this will no longer exclude empty or all-NA columns when determining the result dtypes. To retain the old behavior, exclude the relevant entries before the concat operation.\n",
      "  df.loc[len(df.index)] = data\n"
     ]
    },
    {
     "data": {
      "text/plain": [
       "       h         x         y         z  f(x, y, z)          diff      f`_x  \\\n",
       "0    0.1  1.000000  1.000000  1.000000    6.500000           NaN  2.500000   \n",
       "1    0.1  0.750000  0.700000  0.550000    3.420000 -3.080000e+00  2.025000   \n",
       "2    0.1  0.547500  0.475000  0.232500    1.745831 -1.674169e+00  1.663750   \n",
       "3    0.1  0.381125  0.304250  0.011125    0.821041 -9.247905e-01  1.386687   \n",
       "4    0.1  0.242456  0.172712 -0.140581    0.297335 -5.237054e-01  1.172166   \n",
       "..   ...       ...       ...       ...         ...           ...       ...   \n",
       "233  0.1 -1.331818 -1.663635  0.664470   -1.166664 -1.289129e-07  0.000417   \n",
       "234  0.1 -1.331859 -1.663719  0.664530   -1.166665 -1.219138e-07  0.000406   \n",
       "235  0.1 -1.331900 -1.663800  0.664589   -1.166665 -1.152947e-07  0.000395   \n",
       "236  0.1 -1.331939 -1.663879  0.664646   -1.166665 -1.090350e-07  0.000384   \n",
       "237  0.1 -1.331978 -1.663955  0.664702   -1.166665 -1.031151e-07  0.000373   \n",
       "\n",
       "         f`_y      f`_z      norm  \n",
       "0    3.000000  4.500000  5.958188  \n",
       "1    2.250000  3.175000  4.386770  \n",
       "2    1.707500  2.213750  3.253354  \n",
       "3    1.315375  1.517062  2.440203  \n",
       "4    1.032131  1.012778  1.861447  \n",
       "..        ...       ...       ...  \n",
       "233  0.000834 -0.000605  0.001112  \n",
       "234  0.000811 -0.000588  0.001081  \n",
       "235  0.000789 -0.000572  0.001051  \n",
       "236  0.000767 -0.000556  0.001023  \n",
       "237  0.000746 -0.000541  0.000994  \n",
       "\n",
       "[238 rows x 10 columns]"
      ],
      "text/html": [
       "<div>\n",
       "<style scoped>\n",
       "    .dataframe tbody tr th:only-of-type {\n",
       "        vertical-align: middle;\n",
       "    }\n",
       "\n",
       "    .dataframe tbody tr th {\n",
       "        vertical-align: top;\n",
       "    }\n",
       "\n",
       "    .dataframe thead th {\n",
       "        text-align: right;\n",
       "    }\n",
       "</style>\n",
       "<table border=\"1\" class=\"dataframe\">\n",
       "  <thead>\n",
       "    <tr style=\"text-align: right;\">\n",
       "      <th></th>\n",
       "      <th>h</th>\n",
       "      <th>x</th>\n",
       "      <th>y</th>\n",
       "      <th>z</th>\n",
       "      <th>f(x, y, z)</th>\n",
       "      <th>diff</th>\n",
       "      <th>f`_x</th>\n",
       "      <th>f`_y</th>\n",
       "      <th>f`_z</th>\n",
       "      <th>norm</th>\n",
       "    </tr>\n",
       "  </thead>\n",
       "  <tbody>\n",
       "    <tr>\n",
       "      <th>0</th>\n",
       "      <td>0.1</td>\n",
       "      <td>1.000000</td>\n",
       "      <td>1.000000</td>\n",
       "      <td>1.000000</td>\n",
       "      <td>6.500000</td>\n",
       "      <td>NaN</td>\n",
       "      <td>2.500000</td>\n",
       "      <td>3.000000</td>\n",
       "      <td>4.500000</td>\n",
       "      <td>5.958188</td>\n",
       "    </tr>\n",
       "    <tr>\n",
       "      <th>1</th>\n",
       "      <td>0.1</td>\n",
       "      <td>0.750000</td>\n",
       "      <td>0.700000</td>\n",
       "      <td>0.550000</td>\n",
       "      <td>3.420000</td>\n",
       "      <td>-3.080000e+00</td>\n",
       "      <td>2.025000</td>\n",
       "      <td>2.250000</td>\n",
       "      <td>3.175000</td>\n",
       "      <td>4.386770</td>\n",
       "    </tr>\n",
       "    <tr>\n",
       "      <th>2</th>\n",
       "      <td>0.1</td>\n",
       "      <td>0.547500</td>\n",
       "      <td>0.475000</td>\n",
       "      <td>0.232500</td>\n",
       "      <td>1.745831</td>\n",
       "      <td>-1.674169e+00</td>\n",
       "      <td>1.663750</td>\n",
       "      <td>1.707500</td>\n",
       "      <td>2.213750</td>\n",
       "      <td>3.253354</td>\n",
       "    </tr>\n",
       "    <tr>\n",
       "      <th>3</th>\n",
       "      <td>0.1</td>\n",
       "      <td>0.381125</td>\n",
       "      <td>0.304250</td>\n",
       "      <td>0.011125</td>\n",
       "      <td>0.821041</td>\n",
       "      <td>-9.247905e-01</td>\n",
       "      <td>1.386687</td>\n",
       "      <td>1.315375</td>\n",
       "      <td>1.517062</td>\n",
       "      <td>2.440203</td>\n",
       "    </tr>\n",
       "    <tr>\n",
       "      <th>4</th>\n",
       "      <td>0.1</td>\n",
       "      <td>0.242456</td>\n",
       "      <td>0.172712</td>\n",
       "      <td>-0.140581</td>\n",
       "      <td>0.297335</td>\n",
       "      <td>-5.237054e-01</td>\n",
       "      <td>1.172166</td>\n",
       "      <td>1.032131</td>\n",
       "      <td>1.012778</td>\n",
       "      <td>1.861447</td>\n",
       "    </tr>\n",
       "    <tr>\n",
       "      <th>...</th>\n",
       "      <td>...</td>\n",
       "      <td>...</td>\n",
       "      <td>...</td>\n",
       "      <td>...</td>\n",
       "      <td>...</td>\n",
       "      <td>...</td>\n",
       "      <td>...</td>\n",
       "      <td>...</td>\n",
       "      <td>...</td>\n",
       "      <td>...</td>\n",
       "    </tr>\n",
       "    <tr>\n",
       "      <th>233</th>\n",
       "      <td>0.1</td>\n",
       "      <td>-1.331818</td>\n",
       "      <td>-1.663635</td>\n",
       "      <td>0.664470</td>\n",
       "      <td>-1.166664</td>\n",
       "      <td>-1.289129e-07</td>\n",
       "      <td>0.000417</td>\n",
       "      <td>0.000834</td>\n",
       "      <td>-0.000605</td>\n",
       "      <td>0.001112</td>\n",
       "    </tr>\n",
       "    <tr>\n",
       "      <th>234</th>\n",
       "      <td>0.1</td>\n",
       "      <td>-1.331859</td>\n",
       "      <td>-1.663719</td>\n",
       "      <td>0.664530</td>\n",
       "      <td>-1.166665</td>\n",
       "      <td>-1.219138e-07</td>\n",
       "      <td>0.000406</td>\n",
       "      <td>0.000811</td>\n",
       "      <td>-0.000588</td>\n",
       "      <td>0.001081</td>\n",
       "    </tr>\n",
       "    <tr>\n",
       "      <th>235</th>\n",
       "      <td>0.1</td>\n",
       "      <td>-1.331900</td>\n",
       "      <td>-1.663800</td>\n",
       "      <td>0.664589</td>\n",
       "      <td>-1.166665</td>\n",
       "      <td>-1.152947e-07</td>\n",
       "      <td>0.000395</td>\n",
       "      <td>0.000789</td>\n",
       "      <td>-0.000572</td>\n",
       "      <td>0.001051</td>\n",
       "    </tr>\n",
       "    <tr>\n",
       "      <th>236</th>\n",
       "      <td>0.1</td>\n",
       "      <td>-1.331939</td>\n",
       "      <td>-1.663879</td>\n",
       "      <td>0.664646</td>\n",
       "      <td>-1.166665</td>\n",
       "      <td>-1.090350e-07</td>\n",
       "      <td>0.000384</td>\n",
       "      <td>0.000767</td>\n",
       "      <td>-0.000556</td>\n",
       "      <td>0.001023</td>\n",
       "    </tr>\n",
       "    <tr>\n",
       "      <th>237</th>\n",
       "      <td>0.1</td>\n",
       "      <td>-1.331978</td>\n",
       "      <td>-1.663955</td>\n",
       "      <td>0.664702</td>\n",
       "      <td>-1.166665</td>\n",
       "      <td>-1.031151e-07</td>\n",
       "      <td>0.000373</td>\n",
       "      <td>0.000746</td>\n",
       "      <td>-0.000541</td>\n",
       "      <td>0.000994</td>\n",
       "    </tr>\n",
       "  </tbody>\n",
       "</table>\n",
       "<p>238 rows × 10 columns</p>\n",
       "</div>"
      ]
     },
     "execution_count": 379,
     "metadata": {},
     "output_type": "execute_result"
    }
   ],
   "execution_count": 379
  },
  {
   "metadata": {
    "ExecuteTime": {
     "end_time": "2024-10-10T02:12:15.076708Z",
     "start_time": "2024-10-10T02:12:15.063708Z"
    }
   },
   "cell_type": "code",
   "source": [
    "# Настоящий результат: -1.16666666.....7\n",
    "#(*) = (-1.333..., -1.666..., 0.666...)"
   ],
   "id": "7b28d9131307bb16",
   "outputs": [],
   "execution_count": 380
  },
  {
   "metadata": {
    "ExecuteTime": {
     "end_time": "2024-10-10T02:12:15.172232Z",
     "start_time": "2024-10-10T02:12:15.158233Z"
    }
   },
   "cell_type": "code",
   "source": "",
   "id": "9732dee48efe8ee6",
   "outputs": [],
   "execution_count": null
  }
 ],
 "metadata": {
  "kernelspec": {
   "display_name": "Python 3",
   "language": "python",
   "name": "python3"
  },
  "language_info": {
   "codemirror_mode": {
    "name": "ipython",
    "version": 2
   },
   "file_extension": ".py",
   "mimetype": "text/x-python",
   "name": "python",
   "nbconvert_exporter": "python",
   "pygments_lexer": "ipython2",
   "version": "2.7.6"
  }
 },
 "nbformat": 4,
 "nbformat_minor": 5
}
